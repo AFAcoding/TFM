{
 "cells": [
  {
   "cell_type": "code",
   "execution_count": null,
   "id": "2e65d098",
   "metadata": {},
   "outputs": [],
   "source": [
    "import numpy as np\n",
    "import pandas as pd\n",
    "import matplotlib.pyplot as plt\n",
    "import seaborn as sns\n",
    "\n",
    "from scipy import stats\n",
    "import statsmodels.api as sm\n",
    "import statsmodels.formula.api as smf\n",
    "from statsmodels.stats.multicomp import pairwise_tukeyhsd\n"
   ]
  },
  {
   "cell_type": "code",
   "execution_count": 2,
   "id": "be958816",
   "metadata": {},
   "outputs": [],
   "source": [
    "df=pd.read_csv(\"dataframe_final.csv\",sep=\",\")"
   ]
  },
  {
   "cell_type": "code",
   "execution_count": 7,
   "id": "9a86d17e",
   "metadata": {},
   "outputs": [],
   "source": [
    "df.drop(columns=[\"Tasa interanual del IPI\"], inplace=True)"
   ]
  },
  {
   "cell_type": "code",
   "execution_count": 14,
   "id": "774df136",
   "metadata": {},
   "outputs": [],
   "source": [
    "df_anova = df[[\"rain\", \"is_day\", \"Festiu\",\"Valor\"]]"
   ]
  },
  {
   "cell_type": "markdown",
   "id": "7872a3ad",
   "metadata": {},
   "source": [
    "### Welch’s Test"
   ]
  },
  {
   "cell_type": "code",
   "execution_count": 19,
   "id": "14575d4e",
   "metadata": {},
   "outputs": [
    {
     "name": "stdout",
     "output_type": "stream",
     "text": [
      "Welch’s t-test (rain):\n",
      "t = -7.440473126375821\n",
      "p = 1.0100621704499002e-13\n",
      "Welch’s t-test (is_day):\n",
      "t = -124.23877187714108\n",
      "p = 0.0\n",
      "Welch’s t-test (Festiu):\n",
      "t = 39.49708917291632\n",
      "p = 0.0\n"
     ]
    }
   ],
   "source": [
    "group_rain_0 = df[df['rain'] == 0]['Valor']\n",
    "group_rain_1 = df[df['rain'] == 1]['Valor']\n",
    "\n",
    "t_stat_rain, p_val_rain = stats.ttest_ind(group_rain_0, group_rain_1, equal_var=False)\n",
    "print(\"Welch’s t-test (rain):\")\n",
    "print(\"t =\", t_stat_rain)\n",
    "print(\"p =\", p_val_rain)\n",
    "\n",
    "group_day_0 = df[df['is_day'] == 0]['Valor']\n",
    "group_day_1 = df[df['is_day'] == 1]['Valor']\n",
    "\n",
    "t_stat_day, p_val_day = stats.ttest_ind(group_day_0, group_day_1, equal_var=False)\n",
    "print(\"Welch’s t-test (is_day):\")\n",
    "print(\"t =\", t_stat_day)\n",
    "print(\"p =\", p_val_day)\n",
    "\n",
    "group_festiu_0 = df[df['Festiu'] == 0]['Valor']\n",
    "group_festiu_1 = df[df['Festiu'] == 1]['Valor']\n",
    "\n",
    "t_stat_festiu, p_val_festiu = stats.ttest_ind(group_festiu_0, group_festiu_1, equal_var=False)\n",
    "print(\"Welch’s t-test (Festiu):\")\n",
    "print(\"t =\", t_stat_festiu)\n",
    "print(\"p =\", p_val_festiu)"
   ]
  },
  {
   "cell_type": "markdown",
   "id": "3016d2fa",
   "metadata": {},
   "source": [
    "Les tres variables categòriques analitzades tenen un impacte clar i fort sobre la variable contínua Valor."
   ]
  },
  {
   "cell_type": "markdown",
   "id": "04d9c28c",
   "metadata": {},
   "source": [
    "### ANOVA"
   ]
  },
  {
   "cell_type": "code",
   "execution_count": 18,
   "id": "7b02ead6",
   "metadata": {},
   "outputs": [
    {
     "name": "stdout",
     "output_type": "stream",
     "text": [
      "ANOVA per Festiu:\n",
      "F = 1005.4385906409951\n",
      "p = 2.4406536930332503e-220\n",
      "ANOVA per és de dia:\n",
      "F = 15199.932457729636\n",
      "p = 0.0\n",
      "ANOVA per pluja:\n",
      "F = 55.088392546461044\n",
      "p = 1.1548990222707683e-13\n"
     ]
    }
   ],
   "source": [
    "grups = [group['Valor'].values for name, group in df.groupby('Festiu')]\n",
    "f_stat, p_value = stats.f_oneway(*grups)\n",
    "\n",
    "print(\"ANOVA per Festiu:\")\n",
    "print(\"F =\", f_stat)\n",
    "print(\"p =\", p_value)\n",
    "\n",
    "grups = [group['Valor'].values for name, group in df.groupby('is_day')]\n",
    "f_stat, p_value = stats.f_oneway(*grups)\n",
    "\n",
    "print(\"ANOVA per és de dia:\")\n",
    "print(\"F =\", f_stat)\n",
    "print(\"p =\", p_value)\n",
    "\n",
    "grups = [group['Valor'].values for name, group in df.groupby('rain')]\n",
    "f_stat, p_value = stats.f_oneway(*grups)\n",
    "\n",
    "print(\"ANOVA per pluja:\")\n",
    "print(\"F =\", f_stat)\n",
    "print(\"p =\", p_value)"
   ]
  },
  {
   "cell_type": "markdown",
   "id": "fe082419",
   "metadata": {},
   "source": [
    "Els valors F molt alts i els p-values pràcticament zero indiquen que les mitjanes del valor Valor difereixen molt significativament entre els grups de cada variable categòrica.\n",
    "\n",
    "Això confirma que festiu, si és de dia o no, i pluja són factors molt importants que afecten el consum o la variable Valor."
   ]
  },
  {
   "cell_type": "markdown",
   "id": "d1c45a16",
   "metadata": {},
   "source": [
    "ANOVA multifactorial"
   ]
  },
  {
   "cell_type": "code",
   "execution_count": null,
   "id": "a7e8bd92",
   "metadata": {},
   "outputs": [
    {
     "name": "stdout",
     "output_type": "stream",
     "text": [
      "                 sum_sq        df             F         PR(>F)\n",
      "C(rain)    4.409512e+10       1.0     14.391031   1.485331e-04\n",
      "C(Festiu)  2.847909e+12       1.0    929.452930  7.224809e-204\n",
      "C(is_day)  4.620975e+13       1.0  15081.169748   0.000000e+00\n",
      "Residual   1.066376e+15  348026.0           NaN            NaN\n"
     ]
    }
   ],
   "source": [
    "# Assegura que les variables categòriques siguin de tipus 'category'\n",
    "df['rain'] = df['rain'].astype('category')\n",
    "df['Festiu'] = df['Festiu'].astype('category')\n",
    "df['is_day'] = df['is_day'].astype('category')\n",
    "\n",
    "model = smf.ols('Valor ~ C(rain) + C(Festiu) + C(is_day)', data=df).fit()\n",
    "anova_table = sm.stats.anova_lm(model, typ=2)\n",
    "\n",
    "print(anova_table)"
   ]
  },
  {
   "cell_type": "markdown",
   "id": "67c15545",
   "metadata": {},
   "source": [
    "### Post-hoc test Tukey HSD"
   ]
  },
  {
   "cell_type": "code",
   "execution_count": null,
   "id": "5ac6241e",
   "metadata": {},
   "outputs": [
    {
     "name": "stdout",
     "output_type": "stream",
     "text": [
      "Festiu vs Valor:      Multiple Comparison of Means - Tukey HSD, FWER=0.05      \n",
      "==============================================================\n",
      "group1 group2   meandiff  p-adj    lower       upper    reject\n",
      "--------------------------------------------------------------\n",
      " False   True -15409.1114   0.0 -16361.5739 -14456.6488   True\n",
      "--------------------------------------------------------------\n",
      "Rain vs Valor:  Multiple Comparison of Means - Tukey HSD, FWER=0.05  \n",
      "======================================================\n",
      "group1 group2  meandiff p-adj  lower    upper   reject\n",
      "------------------------------------------------------\n",
      " False   True 1741.5637   0.0 1281.67 2201.4573   True\n",
      "------------------------------------------------------\n",
      "És de dia vs Valor:    Multiple Comparison of Means - Tukey HSD, FWER=0.05   \n",
      "=========================================================\n",
      "group1 group2  meandiff p-adj   lower      upper   reject\n",
      "---------------------------------------------------------\n",
      " False   True 23207.131   0.0 22838.1969 23576.065   True\n",
      "---------------------------------------------------------\n"
     ]
    }
   ],
   "source": [
    "print(\"Festiu vs Valor:\", pairwise_tukeyhsd(endog=df['Valor'], groups=df['Festiu'], alpha=0.05).summary())\n",
    "\n",
    "print(\"Rain vs Valor:\", pairwise_tukeyhsd(endog=df['Valor'], groups=df['rain'], alpha=0.05).summary())\n",
    "\n",
    "print(\"És de dia vs Valor:\", pairwise_tukeyhsd(endog=df['Valor'], groups=df['is_day'], alpha=0.05).summary())"
   ]
  },
  {
   "cell_type": "code",
   "execution_count": null,
   "id": "257c9031",
   "metadata": {},
   "outputs": [
    {
     "data": {
      "image/png": "[encoded data removed]",
      "text/plain": [
       "<Figure size 1600x500 with 3 Axes>"
      ]
     },
     "metadata": {},
     "output_type": "display_data"
    }
   ],
   "source": [
    "fig, axes = plt.subplots(1, 3, figsize=(16, 5))  # 1 fila, 3 columnes\n",
    "\n",
    "# Boxplot per 'Festiu'\n",
    "sns.boxplot(x='Festiu', y='Valor', data=df, ax=axes[0])\n",
    "axes[0].set_title('Consum energètic segons si és dia festiu')\n",
    "\n",
    "# Boxplot per 'rain'\n",
    "sns.boxplot(x='rain', y='Valor', data=df, ax=axes[1])\n",
    "axes[1].set_title('Consum energètic segons presència de pluja')\n",
    "\n",
    "# Boxplot per 'is_day'\n",
    "sns.boxplot(x='is_day', y='Valor', data=df, ax=axes[2])\n",
    "axes[2].set_title('Consum energètic segons si és de dia')\n",
    "\n",
    "plt.tight_layout()\n",
    "plt.show()"
   ]
  },
  {
   "cell_type": "code",
   "execution_count": null,
   "id": "a3eda645",
   "metadata": {},
   "outputs": [],
   "source": []
  }
 ],
 "metadata": {
  "kernelspec": {
   "display_name": "Python 3",
   "language": "python",
   "name": "python3"
  },
  "language_info": {
   "codemirror_mode": {
    "name": "ipython",
    "version": 3
   },
   "file_extension": ".py",
   "mimetype": "text/x-python",
   "name": "python",
   "nbconvert_exporter": "python",
   "pygments_lexer": "ipython3",
   "version": "3.11.9"
  }
 },
 "nbformat": 4,
 "nbformat_minor": 5
}
